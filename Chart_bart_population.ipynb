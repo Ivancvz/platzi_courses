{
  "nbformat": 4,
  "nbformat_minor": 0,
  "metadata": {
    "colab": {
      "provenance": [],
      "mount_file_id": "1qnQoamuhhuhW-Pa0QmyT7im62OobcpPn",
      "authorship_tag": "ABX9TyO/+VXZ/UuuTRKcPSRIsn8H",
      "include_colab_link": true
    },
    "kernelspec": {
      "name": "python3",
      "display_name": "Python 3"
    },
    "language_info": {
      "name": "python"
    }
  },
  "cells": [
    {
      "cell_type": "markdown",
      "metadata": {
        "id": "view-in-github",
        "colab_type": "text"
      },
      "source": [
        "<a href=\"https://colab.research.google.com/github/Ivancvz/platzi_courses/blob/main/Chart_bart_population.ipynb\" target=\"_parent\"><img src=\"https://colab.research.google.com/assets/colab-badge.svg\" alt=\"Open In Colab\"/></a>"
      ]
    },
    {
      "cell_type": "code",
      "execution_count": 8,
      "metadata": {
        "id": "MkkkZeJ3Hn2b",
        "outputId": "9079c517-04f9-4a50-ead3-761f0e851723",
        "colab": {
          "base_uri": "https://localhost:8080/",
          "height": 298
        }
      },
      "outputs": [
        {
          "name": "stdout",
          "output_type": "stream",
          "text": [
            "Ingresa el país: Peru\n"
          ]
        },
        {
          "output_type": "display_data",
          "data": {
            "text/plain": [
              "<Figure size 432x288 with 1 Axes>"
            ],
            "image/png": "[encoded data removed]"
          },
          "metadata": {
            "needs_background": "light"
          }
        }
      ],
      "source": [
        "import pandas as pd\n",
        "import numpy as np\n",
        "import matplotlib.pyplot as plt\n",
        "\n",
        "pob = pd.read_csv('https://raw.githubusercontent.com/Ivancvz/platzi_courses/main/data.csv'')\n",
        "country = input('Ingresa el país: ')\n",
        "countries = list(pob['Country'])\n",
        "a = countries.index(country)\n",
        "pob_c = pob.loc[a]\n",
        " \n",
        "def bar_chart(labels,values):\n",
        "    fig, ax = plt.subplots()\n",
        "    ax.bar(labels, values, width=0.5)\n",
        "    ax.set_title('Population of '+country)\n",
        "    plt.show()\n",
        "    \n",
        "if __name__ == '__main__':\n",
        "    sent = pob_c[['2022 Population','2020 Population','2015 Population','2010 Population','2000 Population','1990 Population','1980 Population','1970 Population']]\n",
        "    values = list(reversed(sent))\n",
        "    sentence = ' '.join(dict(sent).keys())\n",
        "    years = []\n",
        "    for t in sentence.split():\n",
        "        try:\n",
        "            years.append(str(int(t)))\n",
        "        except ValueError:\n",
        "            pass\n",
        "    labels = list(reversed(years))\n",
        "    bar_chart(labels,values)"
      ]
    }
  ]
}
